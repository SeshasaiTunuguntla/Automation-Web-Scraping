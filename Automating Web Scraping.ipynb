{
 "cells": [
  {
   "cell_type": "markdown",
   "id": "3e9d74ca",
   "metadata": {},
   "source": [
    "### Install Autoscrapper"
   ]
  },
  {
   "cell_type": "code",
   "execution_count": 55,
   "id": "862f0a87",
   "metadata": {},
   "outputs": [],
   "source": [
    "from autoscraper import AutoScraper\n",
    "import pandas as pd\n",
    "\n",
    "url = 'https://www.amazon.com/s?k=laptop'.format('laptop')\n"
   ]
  },
  {
   "cell_type": "code",
   "execution_count": 56,
   "id": "ac3e0628",
   "metadata": {},
   "outputs": [],
   "source": [
    "wanted_list = [\"https://m.media-amazon.com/images/I/71yAdFdFPdL._AC_UY218_.jpg\",\"$289.98\",\"HP 14 Laptop, Intel Celeron N4020, 4 GB RAM, 64 GB Storage, 14-inch Micro-edge HD Display, Windows 11 Home, Thin & Portable, 4K Graphics, One Year of Microsoft 365 (14-dq0040nr, Snowflake White)\",\"1,394\"]\n",
    "\n",
    "scraper = AutoScraper()\n",
    "result = scraper.build(url, wanted_list)"
   ]
  },
  {
   "cell_type": "code",
   "execution_count": 57,
   "id": "1883b616",
   "metadata": {},
   "outputs": [
    {
     "data": {
      "text/plain": [
       "{'rule_b15p': ['https://m.media-amazon.com/images/I/71pTP-ll4sL._AC_UY218_.jpg',\n",
       "  'https://m.media-amazon.com/images/I/711OHeRmEaL._AC_UY218_.jpg',\n",
       "  'https://m.media-amazon.com/images/I/815uX7wkOZS._AC_UY218_.jpg',\n",
       "  'https://m.media-amazon.com/images/I/71CDSpds6jL._AC_UY218_.jpg',\n",
       "  'https://m.media-amazon.com/images/I/61gKkYQn6lL._AC_UY218_.jpg',\n",
       "  'https://m.media-amazon.com/images/I/71QZ4nztfmL._AC_UY218_.jpg',\n",
       "  'https://m.media-amazon.com/images/I/61QuxlKVZbL._AC_UY218_.jpg',\n",
       "  'https://m.media-amazon.com/images/I/715khTW3lFL._AC_UY218_.jpg',\n",
       "  'https://m.media-amazon.com/images/I/61DVg3ECW-L._AC_UY218_.jpg',\n",
       "  'https://m.media-amazon.com/images/I/71yAdFdFPdL._AC_UY218_.jpg',\n",
       "  'https://m.media-amazon.com/images/I/71bphKmt0DL._AC_UY218_.jpg',\n",
       "  'https://m.media-amazon.com/images/I/71QKrB8dMlL._AC_UY218_.jpg',\n",
       "  'https://m.media-amazon.com/images/I/81ux3SQKXrL._AC_UY218_.jpg',\n",
       "  'https://m.media-amazon.com/images/I/51h3oOo7XnL._AC_UY218_.jpg',\n",
       "  'https://m.media-amazon.com/images/I/71gbrvRJI-L._AC_UY218_.jpg',\n",
       "  'https://m.media-amazon.com/images/I/71tLdr50FOL._AC_UY218_.jpg'],\n",
       " 'rule_hwnf': ['$289.98',\n",
       "  '$209.99',\n",
       "  '$321.99',\n",
       "  '$403.99',\n",
       "  '$399.00',\n",
       "  '$269.99',\n",
       "  '$1,299.99',\n",
       "  '$229.99',\n",
       "  '$399.98'],\n",
       " 'rule_m9ow': ['$289.98',\n",
       "  '$209.99',\n",
       "  '$321.99',\n",
       "  '$403.99',\n",
       "  '$399.00',\n",
       "  '$269.99',\n",
       "  '$1,299.99',\n",
       "  '$229.99',\n",
       "  '$399.98'],\n",
       " 'rule_o7b0': [\"Overall PickAmazon's Choice: Overall PickProducts highlighted as 'Overall Pick' are:Rated 4+ starsPurchased oftenReturned infrequently\",\n",
       "  'HP 15.6\" Portable Laptop (Include 1 Year Microsoft 365), HD Display, Intel Quad-Core N200 Processor, 16GB RAM, 128GB Storage, Wi-Fi 5, Webcam, HDMI, Numeric Keypad, Windows 11 Home, Red',\n",
       "  'HP Newest 14\" Ultral Light Laptop for Students and Business, Intel Quad-Core N4120, 8GB RAM, 192GB Storage(64GB eMMC+128GB Micro SD), 1 Year Office 365, Webcam, HDMI, WiFi, USB-A&C, Win 11 S',\n",
       "  'HP 14 Laptop, Intel Celeron N4020, 4 GB RAM, 64 GB Storage, 14-inch Micro-edge HD Display, Windows 11 Home, Thin & Portable, 4K Graphics, One Year of Microsoft 365 (14-dq0040nr, Snowflake White)',\n",
       "  'HP 17 Laptop, 17.3” HD+ Display, 11th Gen Intel Core i3-1125G4 Processor, 32GB RAM, 1TB SSD, Wi-Fi, HDMI, Webcam, Windows 11 Home, Silver',\n",
       "  'Acer Aspire 3 A315-24P-R7VH Slim Laptop | 15.6\" Full HD IPS Display | AMD Ryzen 3 7320U Quad-Core Processor | AMD Radeon Graphics | 8GB LPDDR5 | 128GB NVMe SSD | Wi-Fi 6 | Windows 11 Home in S Mode',\n",
       "  'SGIN Laptop Computer, 15.6 inch Laptop, Laptops with 4GB DDR4 RAM 128GB SSD, N4000 Processor, Webcam, Type-C, Mini HDMI, 53200mWh Battery, WiFi5, 2xUSB 3.2(Sliver)',\n",
       "  'HP Stream 14\" HD BrightView Laptop, Intel Celeron N4120, 16GB RAM, 288GB Storage (128GB Emmc+ 160GB Docking Station Set), Intel UHD Graphics, 720p Webcam, Wi-Fi, 1 Year Office 365, Win 11 S, Gold',\n",
       "  \"15.6'' Laptop 16GB DDR4 512GB SSD, Quad-Core Intel Celeron N5095 Processors, 1080P IPS FHD Display Laptop Computer,Numeric Keypad USB 3.0, Bluetooth 4.2, 2.4/5G WiFi\",\n",
       "  'HP Portable Laptop (Include 1 Year Microsoft 365), 14’’ HD Display, 8GB RAM, 64GB eMMC, Intel Quad-Core N4120, Student and Business, Webcam, HDMI, Wi-Fi, RJ-45, Windows 11 Home, Pink',\n",
       "  'ACEMAGIC Laptop Computer, 16GB DDR4 512GB SSD, 15.6 Inch Windows 11 Laptop with Quad-Core N95(Up to 3.4GHz), Metal Shell, BT5.0, 5G WiFi, USB3.2, Type_C, Webcam, 38Wh Battery, 180° Open Angle',\n",
       "  'Lenovo IdeaPad 1 14 Laptop, 14.0\" HD Display, Intel Celeron N4020, 4GB RAM, 64GB Storage, Intel UHD Graphics 600, Win 11 in S Mode, Cloud Grey',\n",
       "  'ACEMAGIC Laptop, 16GB DDR4 512GB SSD, Quad-Core N95 Processor, Windows 11 Laptop Computer, 15.6\" IPS 1080P PC, Metal Shell, 180° Open Angle,WiFi, BT5.0, USB3.2, Type_C, Long Battery Life',\n",
       "  'Acer Aspire 1 A115-32-C96U Slim Laptop | 15.6\" FHD Display | Intel Celeron N4500 Processor | 4GB DDR4 | 128GB eMMC | WiFi 5 | Microsoft 365 Personal 1-Year Subscription | Windows 11 in S Mode, Silver',\n",
       "  'Lenovo IdeaPad 1 Laptop, 15.6” FHD Display, AMD Ryzen 5 5500U, 8GB RAM, 512GB SSD, Windows 11 Home, 720p Camera w/Privacy Shutter, Smart Noise Cancelling, Cloud Grey',\n",
       "  \"Dell Inspiron 15 3000 3520 Business Laptop Computer[Windows 11 Pro], 15.6'' FHD Touchscreen, 11th Gen Intel Quad-Core i5-1135G7, 16GB RAM, 1TB PCIe SSD, Numeric Keypad, Wi-Fi, Webcam, HDMI, Black\",\n",
       "  'HP 14\" Laptop Ultral Light for Students and Business, Quad-Core Intel Celeron Processor, 16GB RAM, 256GB Storage (128GB eMMC + 128GB Ghost Manta SD Card), HDMI, WiFi, USB-A&C, Win 11'],\n",
       " 'rule_rk6b': ['409',\n",
       "  '1,394',\n",
       "  '1,372',\n",
       "  '726',\n",
       "  '3,840',\n",
       "  '2',\n",
       "  '1,775',\n",
       "  '50',\n",
       "  '983',\n",
       "  '5',\n",
       "  '801',\n",
       "  '7',\n",
       "  '641',\n",
       "  '197',\n",
       "  '69',\n",
       "  '705']}"
      ]
     },
     "execution_count": 57,
     "metadata": {},
     "output_type": "execute_result"
    }
   ],
   "source": [
    "scraper.get_result_similar(url,grouped=True)"
   ]
  },
  {
   "cell_type": "code",
   "execution_count": 61,
   "id": "129cfcd0",
   "metadata": {},
   "outputs": [],
   "source": [
    "scraper.set_rule_aliases({'rule_b15p':'image'   ,   'rule_rk6b': 'Stars'   ,    'rule_o7b0': 'Title'   ,   'rule_hwnf':'Price'})\n",
    "scraper.keep_rules(['rule_b15p', 'rule_rk6b','rule_o7b0','rule_hwnf'])"
   ]
  },
  {
   "cell_type": "code",
   "execution_count": 62,
   "id": "8be41465",
   "metadata": {},
   "outputs": [],
   "source": [
    "scraper.save('amazon-search.json')"
   ]
  },
  {
   "cell_type": "code",
   "execution_count": 63,
   "id": "07b8f946",
   "metadata": {},
   "outputs": [],
   "source": [
    "data=scraper.get_result_similar(url,group_by_alias=True)\n",
    "search_data=tuple(zip(data['Title'],data['Price'],data['Stars'],data['image']))"
   ]
  },
  {
   "cell_type": "code",
   "execution_count": 64,
   "id": "28ba04ff",
   "metadata": {},
   "outputs": [],
   "source": [
    "df=pd.DataFrame(columns=['Title','Price','Stars','image'])\n",
    "for i in range(len(search_data)):\n",
    "    df.loc[len(df)]=[search_data[i][0],search_data[i][1],search_data[i][2],search_data[i][3]]"
   ]
  },
  {
   "cell_type": "code",
   "execution_count": 66,
   "id": "4f545386",
   "metadata": {},
   "outputs": [
    {
     "name": "stdout",
     "output_type": "stream",
     "text": [
      "(9, 4)\n"
     ]
    },
    {
     "data": {
      "text/html": [
       "<div>\n",
       "<style scoped>\n",
       "    .dataframe tbody tr th:only-of-type {\n",
       "        vertical-align: middle;\n",
       "    }\n",
       "\n",
       "    .dataframe tbody tr th {\n",
       "        vertical-align: top;\n",
       "    }\n",
       "\n",
       "    .dataframe thead th {\n",
       "        text-align: right;\n",
       "    }\n",
       "</style>\n",
       "<table border=\"1\" class=\"dataframe\">\n",
       "  <thead>\n",
       "    <tr style=\"text-align: right;\">\n",
       "      <th></th>\n",
       "      <th>Title</th>\n",
       "      <th>Price</th>\n",
       "      <th>Stars</th>\n",
       "      <th>image</th>\n",
       "    </tr>\n",
       "  </thead>\n",
       "  <tbody>\n",
       "    <tr>\n",
       "      <th>0</th>\n",
       "      <td>Overall PickAmazon's Choice: Overall PickProdu...</td>\n",
       "      <td>$289.98</td>\n",
       "      <td>409</td>\n",
       "      <td>https://m.media-amazon.com/images/I/71pTP-ll4s...</td>\n",
       "    </tr>\n",
       "    <tr>\n",
       "      <th>1</th>\n",
       "      <td>HP 15.6\" Portable Laptop (Include 1 Year Micro...</td>\n",
       "      <td>$209.99</td>\n",
       "      <td>1,394</td>\n",
       "      <td>https://m.media-amazon.com/images/I/711OHeRmEa...</td>\n",
       "    </tr>\n",
       "    <tr>\n",
       "      <th>2</th>\n",
       "      <td>HP Newest 14\" Ultral Light Laptop for Students...</td>\n",
       "      <td>$321.99</td>\n",
       "      <td>1,372</td>\n",
       "      <td>https://m.media-amazon.com/images/I/815uX7wkOZ...</td>\n",
       "    </tr>\n",
       "    <tr>\n",
       "      <th>3</th>\n",
       "      <td>HP 14 Laptop, Intel Celeron N4020, 4 GB RAM, 6...</td>\n",
       "      <td>$403.99</td>\n",
       "      <td>726</td>\n",
       "      <td>https://m.media-amazon.com/images/I/71CDSpds6j...</td>\n",
       "    </tr>\n",
       "    <tr>\n",
       "      <th>4</th>\n",
       "      <td>HP 17 Laptop, 17.3” HD+ Display, 11th Gen Inte...</td>\n",
       "      <td>$399.00</td>\n",
       "      <td>3,840</td>\n",
       "      <td>https://m.media-amazon.com/images/I/61gKkYQn6l...</td>\n",
       "    </tr>\n",
       "    <tr>\n",
       "      <th>5</th>\n",
       "      <td>Acer Aspire 3 A315-24P-R7VH Slim Laptop | 15.6...</td>\n",
       "      <td>$269.99</td>\n",
       "      <td>2</td>\n",
       "      <td>https://m.media-amazon.com/images/I/71QZ4nztfm...</td>\n",
       "    </tr>\n",
       "    <tr>\n",
       "      <th>6</th>\n",
       "      <td>SGIN Laptop Computer, 15.6 inch Laptop, Laptop...</td>\n",
       "      <td>$1,299.99</td>\n",
       "      <td>1,775</td>\n",
       "      <td>https://m.media-amazon.com/images/I/61QuxlKVZb...</td>\n",
       "    </tr>\n",
       "    <tr>\n",
       "      <th>7</th>\n",
       "      <td>HP Stream 14\" HD BrightView Laptop, Intel Cele...</td>\n",
       "      <td>$229.99</td>\n",
       "      <td>50</td>\n",
       "      <td>https://m.media-amazon.com/images/I/715khTW3lF...</td>\n",
       "    </tr>\n",
       "    <tr>\n",
       "      <th>8</th>\n",
       "      <td>15.6'' Laptop 16GB DDR4 512GB SSD, Quad-Core I...</td>\n",
       "      <td>$399.98</td>\n",
       "      <td>983</td>\n",
       "      <td>https://m.media-amazon.com/images/I/61DVg3ECW-...</td>\n",
       "    </tr>\n",
       "  </tbody>\n",
       "</table>\n",
       "</div>"
      ],
      "text/plain": [
       "                                               Title      Price  Stars  \\\n",
       "0  Overall PickAmazon's Choice: Overall PickProdu...    $289.98    409   \n",
       "1  HP 15.6\" Portable Laptop (Include 1 Year Micro...    $209.99  1,394   \n",
       "2  HP Newest 14\" Ultral Light Laptop for Students...    $321.99  1,372   \n",
       "3  HP 14 Laptop, Intel Celeron N4020, 4 GB RAM, 6...    $403.99    726   \n",
       "4  HP 17 Laptop, 17.3” HD+ Display, 11th Gen Inte...    $399.00  3,840   \n",
       "5  Acer Aspire 3 A315-24P-R7VH Slim Laptop | 15.6...    $269.99      2   \n",
       "6  SGIN Laptop Computer, 15.6 inch Laptop, Laptop...  $1,299.99  1,775   \n",
       "7  HP Stream 14\" HD BrightView Laptop, Intel Cele...    $229.99     50   \n",
       "8  15.6'' Laptop 16GB DDR4 512GB SSD, Quad-Core I...    $399.98    983   \n",
       "\n",
       "                                               image  \n",
       "0  https://m.media-amazon.com/images/I/71pTP-ll4s...  \n",
       "1  https://m.media-amazon.com/images/I/711OHeRmEa...  \n",
       "2  https://m.media-amazon.com/images/I/815uX7wkOZ...  \n",
       "3  https://m.media-amazon.com/images/I/71CDSpds6j...  \n",
       "4  https://m.media-amazon.com/images/I/61gKkYQn6l...  \n",
       "5  https://m.media-amazon.com/images/I/71QZ4nztfm...  \n",
       "6  https://m.media-amazon.com/images/I/61QuxlKVZb...  \n",
       "7  https://m.media-amazon.com/images/I/715khTW3lF...  \n",
       "8  https://m.media-amazon.com/images/I/61DVg3ECW-...  "
      ]
     },
     "execution_count": 66,
     "metadata": {},
     "output_type": "execute_result"
    }
   ],
   "source": [
    "print(df.shape)\n",
    "df"
   ]
  }
 ],
 "metadata": {
  "kernelspec": {
   "display_name": "Python 3",
   "language": "python",
   "name": "python3"
  },
  "language_info": {
   "codemirror_mode": {
    "name": "ipython",
    "version": 3
   },
   "file_extension": ".py",
   "mimetype": "text/x-python",
   "name": "python",
   "nbconvert_exporter": "python",
   "pygments_lexer": "ipython3",
   "version": "3.12.3"
  }
 },
 "nbformat": 4,
 "nbformat_minor": 5
}
